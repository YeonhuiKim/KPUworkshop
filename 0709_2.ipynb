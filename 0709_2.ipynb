{
 "cells": [
  {
   "cell_type": "code",
   "execution_count": 7,
   "metadata": {},
   "outputs": [],
   "source": [
    "import numpy as np\n",
    "import matplotlib.pyplot as plt"
   ]
  },
  {
   "cell_type": "code",
   "execution_count": 8,
   "metadata": {},
   "outputs": [],
   "source": [
    "x=([5.3, 1.7, 2.9, 5.1, 4.9, 2.5, 5.2, 0.0, 1.8, 1.0, 7.3, 8.4, 7.3])\n",
    "d=([.95, .59, .88, .96, .99, .88, 1.0, 0, .63, .18, .97, .99, 1.01])"
   ]
  },
  {
   "cell_type": "code",
   "execution_count": 32,
   "metadata": {},
   "outputs": [
    {
     "data": {
      "text/plain": [
       "[<matplotlib.lines.Line2D at 0x7efeae83cbe0>]"
      ]
     },
     "execution_count": 32,
     "metadata": {},
     "output_type": "execute_result"
    },
    {
     "data": {
      "image/png": "[encoded data removed]",
      "text/plain": [
       "<Figure size 432x288 with 1 Axes>"
      ]
     },
     "metadata": {
      "needs_background": "light"
     },
     "output_type": "display_data"
    }
   ],
   "source": [
    "m=15\n",
    "X=np.zeros((len(x), m+1))\n",
    "for i in range(m+1):\n",
    "    for j in range(0,13):\n",
    "        X[j][i]=np.power(x[j], i)\n",
    "    \n",
    "w=np.linalg.solve(X.T.dot(X), X.T.dot(d))\n",
    "\n",
    "\n",
    "y=X.dot(w)\n",
    "\n",
    "\n",
    "\n",
    "\n",
    "xtest=np.linspace(0,10,100)\n",
    "Xtest=np.zeros((xtest.size, m+1))\n",
    "for i in range(m+1):\n",
    "    Xtest[:, i]=xtest**i\n",
    "    \n",
    "ytest=Xtest.dot(w)\n",
    "\n",
    "\n",
    "plt.plot(x, d, 'x')\n",
    "plt.plot(xtest, ytest, 'r')"
   ]
  },
  {
   "cell_type": "code",
   "execution_count": null,
   "metadata": {},
   "outputs": [],
   "source": []
  }
 ],
 "metadata": {
  "kernelspec": {
   "display_name": "Python 3",
   "language": "python",
   "name": "python3"
  },
  "language_info": {
   "codemirror_mode": {
    "name": "ipython",
    "version": 3
   },
   "file_extension": ".py",
   "mimetype": "text/x-python",
   "name": "python",
   "nbconvert_exporter": "python",
   "pygments_lexer": "ipython3",
   "version": "3.7.3"
  }
 },
 "nbformat": 4,
 "nbformat_minor": 2
}
